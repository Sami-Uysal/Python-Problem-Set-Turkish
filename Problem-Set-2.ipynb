{
  "nbformat": 4,
  "nbformat_minor": 0,
  "metadata": {
    "colab": {
      "name": "Sami UYSAL - 1_problem_seti.ipynb",
      "provenance": [],
      "collapsed_sections": []
    },
    "kernelspec": {
      "name": "python3",
      "display_name": "Python 3"
    },
    "language_info": {
      "name": "python"
    }
  },
  "cells": [
    {
      "cell_type": "markdown",
      "source": [
        "1)\tPython’da tüketiciye su faturasını bildiren mesaj metni oluşturan kodları yazınız. Kullanıcıya fatura tutarını belirten mesajda kullanılacak değişkenler: Hitap şekli, abone numarası, tüketim dönemi, tüketim tutarı.\n",
        "\n",
        "Örnek Çıktı:  Sayın..............nolu abonemiz .................. dönemi faturanız ...... TL’dir. Python Belediyesi.\n"
      ],
      "metadata": {
        "id": "8apDc5Uct9Aw"
      }
    },
    {
      "cell_type": "code",
      "execution_count": 3,
      "metadata": {
        "id": "9DRSmBhxtgCu",
        "colab": {
          "base_uri": "https://localhost:8080/"
        },
        "outputId": "2568df16-af46-40dd-fa35-1e6828a289d2"
      },
      "outputs": [
        {
          "output_type": "stream",
          "name": "stdout",
          "text": [
            "Sayın 123 nolu abonemiz Güz dönemi faturanız 2345 TL\n"
          ]
        }
      ],
      "source": [
        "aboneno= 123\n",
        "donem= \"Güz\"\n",
        "fatura= 2345\n",
        "\n",
        "print(\"Sayın\",aboneno,\"nolu abonemiz\",donem,\"dönemi faturanız\",fatura,\"TL\")"
      ]
    },
    {
      "cell_type": "markdown",
      "source": [
        "2)\tKullanıcıdan alınan iki sayının ortalamasını hesaplayıp consola bastıran kodu yazınız."
      ],
      "metadata": {
        "id": "_9sE1Y2cuJJH"
      }
    },
    {
      "cell_type": "code",
      "source": [
        "not0 = int(input(\"1.Notu Girin : \"))\n",
        "not1 = int(input(\"2. Notu Girin : \"))\n",
        "ort= (not0+not1)/2\n",
        "print(\"Ders Notunuz :{0} \".format(ort))"
      ],
      "metadata": {
        "id": "fZkb23nWuNDv",
        "colab": {
          "base_uri": "https://localhost:8080/"
        },
        "outputId": "42b31972-1d13-4952-ac75-d67ca478e38c"
      },
      "execution_count": 6,
      "outputs": [
        {
          "output_type": "stream",
          "name": "stdout",
          "text": [
            "1.Notu Girin : 14\n",
            "2. Notu Girin : 14\n",
            "Ders Notunuz :14.0 \n"
          ]
        }
      ]
    },
    {
      "cell_type": "markdown",
      "source": [
        "3)\tKullanıcının bir isim alın ve alınan bu ismi daha önceden oluşturulmuş listeye ekleyin."
      ],
      "metadata": {
        "id": "EzbcOQWHuMnB"
      }
    },
    {
      "cell_type": "code",
      "source": [
        "liste = [\"Ali\", \"Veli\", \"Musa\"]\n",
        "isim = str(input(\"Lütfen İsminizi Giriniz \"))\n",
        "liste.append(isim)\n",
        "print(liste)"
      ],
      "metadata": {
        "id": "aMLZgoYnuTJG",
        "colab": {
          "base_uri": "https://localhost:8080/"
        },
        "outputId": "42b6c59f-e638-4ceb-aaf7-8ef3d67214d9"
      },
      "execution_count": 11,
      "outputs": [
        {
          "output_type": "stream",
          "name": "stdout",
          "text": [
            "Lütfen İsminizi Giriniz Sami\n",
            "['Ali', 'Veli', 'Musa', 'Sami']\n"
          ]
        }
      ]
    },
    {
      "cell_type": "markdown",
      "source": [
        "4)\tBir sözlük yapısı oluşturun bu sözlük yapısında, isim, soy isim, telefon no, ev adresi gibi 4 adet anahtar olsun ve kullanıcıdan sırasıyla bu anahtar değerlere karşılık gelecek bilgileri alarak sözlüğe ekleyin işlem bittikten sonra sözlüğü print fonksiyonu içerisinde fromat() metodunu kullanarak tek tek alt alta kullanıcının girdiği değerleri yazdırın.\n",
        "\n",
        "Örnek Çıktı:\n",
        "İsim : Ahmet\n",
        "Soy isim: Yılmaz\n",
        "Tel: 0512452\n",
        "Ev Adresi: Rastgele mahallesi random sokak kapı no: 3\n"
      ],
      "metadata": {
        "id": "j3uBqXWDuTxQ"
      }
    },
    {
      "cell_type": "code",
      "source": [
        "sozluk = {'isim': 'Huseyin', 'soyad':'Yıldırım','tel':'053453','adres':'Yer Mahallesi Fetih Sokak No:4'}\n",
        "print(\"İsim : {0}    Soyad : {1} \".format(sozluk['isim'],sozluk['soyad']),\" Tel : {0}   Adres : {1} \".format(sozluk['tel'],sozluk['adres']))\n"
      ],
      "metadata": {
        "id": "FPvLxkzDucuu",
        "colab": {
          "base_uri": "https://localhost:8080/"
        },
        "outputId": "8a0f7aa7-2693-4f8a-f010-1e3833f19a68"
      },
      "execution_count": 29,
      "outputs": [
        {
          "output_type": "stream",
          "name": "stdout",
          "text": [
            "İsim : Huseyin    Soyad : Yıldırım   Tel : 053453   Adres : Yer Mahallesi Fetih Sokak No:4 \n"
          ]
        }
      ]
    },
    {
      "cell_type": "markdown",
      "source": [
        "5)\tKullanıcıdan not1 ve not2 olmak üzere iki not alın ve bu notların ortalamasını hesaplayıp ortalama 50 den büyük 60 dan küçükse consola “geçtin” , 60 dan büyük 80 den küçük ise “İyi bir ortalama ile geçtin” 80 den büyük ise “Çok iyi bir ortalama ile geçtin” ve son olarak 50 den küçükse “Kaldınız” yazdıran programı yazın."
      ],
      "metadata": {
        "id": "bkRR_SbiudeB"
      }
    },
    {
      "cell_type": "code",
      "source": [
        "not1 = int(input(\"1.Notu Girin : \"))\n",
        "not2 = int(input(\"2. Notu Girin : \"))\n",
        "ort= (not1+not2)/2\n",
        "if ort>50 and ort<60:\n",
        "   print(\"Geçtin\")\n",
        "elif ort>60 and ort<80:\n",
        "  print(\"İyi bir ortalama ile geçtin\")\n",
        "elif ort>80:\n",
        "  print(\"Çok iyi bir ortalama ile geçtin\")\n",
        "else:\n",
        "  print(\"Kaldın\")"
      ],
      "metadata": {
        "id": "XJQDw-Vtugd3",
        "colab": {
          "base_uri": "https://localhost:8080/"
        },
        "outputId": "e3b964d5-3c9a-4c83-a061-384ee66c3ba8"
      },
      "execution_count": 32,
      "outputs": [
        {
          "output_type": "stream",
          "name": "stdout",
          "text": [
            "1.Notu Girin : 56\n",
            "2. Notu Girin : 85\n",
            "İyi bir ortalama ile geçtin\n"
          ]
        }
      ]
    }
  ]
}